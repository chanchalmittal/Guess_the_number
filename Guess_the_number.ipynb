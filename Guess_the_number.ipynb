{
  "nbformat": 4,
  "nbformat_minor": 0,
  "metadata": {
    "colab": {
      "name": "Guess_the_number.ipynb",
      "provenance": [],
      "authorship_tag": "ABX9TyOkyO72EX8tPkRuJrxSU5v/",
      "include_colab_link": true
    },
    "kernelspec": {
      "name": "python3",
      "display_name": "Python 3"
    },
    "language_info": {
      "name": "python"
    }
  },
  "cells": [
    {
      "cell_type": "markdown",
      "metadata": {
        "id": "view-in-github",
        "colab_type": "text"
      },
      "source": [
        "<a href=\"https://colab.research.google.com/github/chanchalmittal/Guess_the_number/blob/main/Guess_the_number.ipynb\" target=\"_parent\"><img src=\"https://colab.research.google.com/assets/colab-badge.svg\" alt=\"Open In Colab\"/></a>"
      ]
    },
    {
      "cell_type": "markdown",
      "metadata": {
        "id": "m0mWnFkohnY7"
      },
      "source": [
        "#Guess the number(Computer)\n"
      ]
    },
    {
      "cell_type": "code",
      "metadata": {
        "id": "HxPuwfdB_3Um"
      },
      "source": [
        "import random\n"
      ],
      "execution_count": null,
      "outputs": []
    },
    {
      "cell_type": "code",
      "metadata": {
        "colab": {
          "base_uri": "https://localhost:8080/"
        },
        "id": "S2lTKaomLLwt",
        "outputId": "b733c84d-fb93-4e80-8da6-fded7c5a74e3"
      },
      "source": [
        " def guess(x):\n",
        "     random_number = random.randint(1, x)\n",
        "     guess = 0 \n",
        "     while guess != random_number:\n",
        "        guess = int(input(f'guess a number between 1 and {x} ')) \n",
        "        print(guess)\n",
        "\n",
        "guess(10)       "
      ],
      "execution_count": null,
      "outputs": [
        {
          "output_type": "stream",
          "text": [
            "guess a number between 1 and 10 1\n",
            "1\n",
            "guess a number between 1 and 10 2\n",
            "2\n",
            "guess a number between 1 and 10 3\n",
            "3\n",
            "guess a number between 1 and 10 4\n",
            "4\n"
          ],
          "name": "stdout"
        }
      ]
    },
    {
      "cell_type": "markdown",
      "metadata": {
        "id": "a4IjcWhxhx73"
      },
      "source": [
        "#Guess the number (user)"
      ]
    },
    {
      "cell_type": "code",
      "metadata": {
        "id": "-fC_CxC6MkAd"
      },
      "source": [
        " def guess(x):\n",
        "     random_number = random.randint(1, x)\n",
        "     guess = 0 \n",
        "     while guess != random_number:\n",
        "        guess = int(input(f'guess a number between 1 and {x} '))\n",
        "        if guess < random_number:\n",
        "            print('sorry, guess again. Too low')\n",
        "        elif guess > random_number:\n",
        "            print('sorry,guess again. Too high')\n",
        "     print(f'Yay, Congrats.  You have guessed the number {random_number} correctly')           \n",
        "\n",
        "guess(10) "
      ],
      "execution_count": null,
      "outputs": []
    }
  ]
}